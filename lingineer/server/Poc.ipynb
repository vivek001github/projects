{
 "cells": [
  {
   "cell_type": "code",
   "execution_count": 1,
   "metadata": {},
   "outputs": [
    {
     "name": "stdout",
     "output_type": "stream",
     "text": [
      "Original Text:\n",
      "My name is Sarah, and I am currently studing compter science at university. I have a passion for technology, enjoy solving problems, and I also like to help others learn. In my free time, I love reading books, explore new places, and spening time with my family.\n",
      "\n",
      "Corrected Text:\n",
      "By name is Sarah, and I am currently studying computer science at university. I have a passion for technology, enjoy solving problems, and I also like to help others learn. In my free time, I love reading books, explore new places, and opening time with my family.\n",
      "\n",
      "Feedback:\n",
      "The text was corrected for grammatical accuracy. Review the corrections to understand areas for improvement.\n",
      "Consider breaking long sentences into shorter ones for better readability.\n",
      "Expand your technical vocabulary by exploring industry-specific terms to enhance precision and professionalism.\n"
     ]
    }
   ],
   "source": [
    "class AICoach:\n",
    "    def __init__(self):\n",
    "        pass\n",
    "\n",
    "    def correct_text(self, input_text):\n",
    "        \"\"\"\n",
    "        Corrects grammatical errors in the input text and provides feedback.\n",
    "        \"\"\"\n",
    "        from textblob import TextBlob\n",
    "\n",
    "        # Correct grammatical errors\n",
    "        corrected_text = str(TextBlob(input_text).correct())\n",
    "\n",
    "        # Provide feedback\n",
    "        feedback = self.generate_feedback(input_text, corrected_text)\n",
    "\n",
    "        return corrected_text, feedback\n",
    "\n",
    "    def generate_feedback(self, original_text, corrected_text):\n",
    "        \"\"\"\n",
    "        Generates constructive feedback based on the corrections made.\n",
    "        \"\"\"\n",
    "        feedback = []\n",
    "\n",
    "        # Compare original and corrected text\n",
    "        original_words = original_text.split()\n",
    "        corrected_words = corrected_text.split()\n",
    "\n",
    "        if original_words != corrected_words:\n",
    "            feedback.append(\n",
    "                \"The text was corrected for grammatical accuracy. Review the corrections to understand areas for improvement.\"\n",
    "            )\n",
    "\n",
    "        if len(original_text) < 20:\n",
    "            feedback.append(\"Try to provide more detailed explanations to express your thoughts clearly.\")\n",
    "        elif len(original_text) > 150:\n",
    "            feedback.append(\"Consider breaking long sentences into shorter ones for better readability.\")\n",
    "\n",
    "        feedback.append(\n",
    "            \"Expand your technical vocabulary by exploring industry-specific terms to enhance precision and professionalism.\"\n",
    "        )\n",
    "\n",
    "        return \"\\n\".join(feedback)\n",
    "\n",
    "\n",
    "# Example usage\n",
    "if __name__ == \"__main__\":\n",
    "    ai_coach = AICoach()\n",
    "    input_text = \"My name is Sarah, and I am currently studing compter science at university. I have a passion for technology, enjoy solving problems, and I also like to help others learn. In my free time, I love reading books, explore new places, and spening time with my family.\"\n",
    "    corrected_text, feedback = ai_coach.correct_text(input_text)\n",
    "    \n",
    "    print(\"Original Text:\")\n",
    "    print(input_text)\n",
    "    print(\"\\nCorrected Text:\")\n",
    "    print(corrected_text)\n",
    "    print(\"\\nFeedback:\")\n",
    "    print(feedback)\n"
   ]
  }
 ],
 "metadata": {
  "kernelspec": {
   "display_name": "Python 3",
   "language": "python",
   "name": "python3"
  },
  "language_info": {
   "codemirror_mode": {
    "name": "ipython",
    "version": 3
   },
   "file_extension": ".py",
   "mimetype": "text/x-python",
   "name": "python",
   "nbconvert_exporter": "python",
   "pygments_lexer": "ipython3",
   "version": "3.10.12"
  }
 },
 "nbformat": 4,
 "nbformat_minor": 2
}
